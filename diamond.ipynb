{
 "cells": [
  {
   "cell_type": "code",
   "execution_count": 62,
   "metadata": {},
   "outputs": [],
   "source": [
    "import numpy as np\n",
    "import matplotlib.pyplot as plt\n",
    "from matplotlib.animation import FuncAnimation\n",
    "from IPython.display import Image\n",
    "\n",
    "NUM_FRAMES = 25\n",
    "\n",
    "def k_next(k_t, alpha, n, g, rho):\n",
    "    return ((1-alpha)*k_t**alpha)/((1+n)*(1+g)*(1+rho))\n",
    "\n",
    "def plot_phase(alpha=.03, n=.02, g=.02, rho=.04, color='blue', linestyle='-', legend=False, subtitle=''):\n",
    "    k_vals = np.linspace(0.01, 1, 100)\n",
    "    k_next_vals = [k_next(k, alpha, n, g, rho) for k in k_vals]\n",
    "\n",
    "    plt.plot(k_vals, k_next_vals, label=f\"α={alpha}\" if legend else None, color=color, linestyle=linestyle)\n",
    "    plt.plot(k_vals, k_vals, label=\"$k_t=k_{t+1}$\" if legend else None, color='orange', linestyle='dotted')\n",
    "    plt.xlabel('$k_t$')\n",
    "    plt.ylabel('$k_{t+1}$')\n",
    "    plt.title('Plot of $k_{t+1}$ against $k_t$ ' +  subtitle)\n",
    "    plt.grid(True)\n",
    "    plt.xlim(0,1)\n",
    "    plt.ylim(0,1)\n",
    "    if legend:\n",
    "        plt.legend()\n",
    "\n",
    "def animate(alpha, n, g, rho, shock={}, output_file='diamond.gif'):\n",
    "    shock_str = ', '.join([f'{k}={v}' for k, v in shock.items()])\n",
    "    def update(frame):\n",
    "        shocked = {}\n",
    "        if 'alpha' in shock:\n",
    "            shocked['alpha'] = alpha + (shock['alpha'] - alpha) * frame / NUM_FRAMES\n",
    "        else:\n",
    "            shocked['alpha'] = alpha\n",
    "        if 'n' in shock:\n",
    "            shocked['n'] = n + (shock['n'] - n) * frame / NUM_FRAMES\n",
    "        else:\n",
    "            shocked['n'] = n\n",
    "        if 'g' in shock:\n",
    "            shocked['g'] = g + (shock['g'] - g) * frame / NUM_FRAMES\n",
    "        else:\n",
    "            shocked['g'] = g\n",
    "        if 'rho' in shock:\n",
    "            shocked['rho'] = rho + (shock['rho'] - rho) * frame / NUM_FRAMES\n",
    "        else:\n",
    "            shocked['rho'] = rho\n",
    "        plt.clf()\n",
    "        plot_phase(alpha, n, g, rho, color='gray')\n",
    "        plot_phase(shocked['alpha'], shocked['n'], shocked['g'], shocked['rho'], linestyle='--', legend=True, subtitle=f'- shocks=({shock_str})')\n",
    "\n",
    "    # Set up the initial plot\n",
    "    fig, ax = plt.subplots(figsize=(10, 10))\n",
    "\n",
    "    # Set up the animation\n",
    "    ani = FuncAnimation(fig, update, frames=range(NUM_FRAMES), repeat=True)\n",
    "\n",
    "    # Saving the video\n",
    "    ani.save(output_file, writer='pillow')\n",
    "    plt.close(fig)\n",
    "\n",
    "\n",
    "animate(alpha=.3,n=.02,g=.02,rho=.04, shock={'alpha': .7})\n",
    "animate(alpha=.3,n=.02,g=.02,rho=.04, shock={'n': .05}, output_file='diamond_n.gif')\n",
    "#Image(filename='diamond.gif')\n",
    "#Image(filename='diamond_n.gif')"
   ]
  },
  {
   "attachments": {},
   "cell_type": "markdown",
   "metadata": {},
   "source": [
    "![](https://github.com/deodoro/macro_models/blob/main/diamond.gif?raw=true)\n",
    "![](https://github.com/deodoro/macro_models/blob/main/diamond_n.gif?raw=true)"
   ]
  },
  {
   "attachments": {},
   "cell_type": "markdown",
   "metadata": {},
   "source": [
    "![](https://github.com/deodoro/macro_models/blob/main/diamond.gif?raw=true)"
   ]
  },
  {
   "attachments": {},
   "cell_type": "markdown",
   "metadata": {},
   "source": []
  }
 ],
 "metadata": {
  "kernelspec": {
   "display_name": ".venv",
   "language": "python",
   "name": "python3"
  },
  "language_info": {
   "codemirror_mode": {
    "name": "ipython",
    "version": 3
   },
   "file_extension": ".py",
   "mimetype": "text/x-python",
   "name": "python",
   "nbconvert_exporter": "python",
   "pygments_lexer": "ipython3",
   "version": "3.11.5"
  },
  "orig_nbformat": 4
 },
 "nbformat": 4,
 "nbformat_minor": 2
}
