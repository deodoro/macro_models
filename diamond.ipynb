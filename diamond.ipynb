{
 "cells": [
  {
   "cell_type": "code",
   "execution_count": null,
   "metadata": {},
   "outputs": [],
   "source": [
    "!pip install sympy\n",
    "!pip install ipywidgets"
   ]
  },
  {
   "cell_type": "code",
   "execution_count": 11,
   "metadata": {},
   "outputs": [
    {
     "ename": "NameError",
     "evalue": "name 'K0_shock' is not defined",
     "output_type": "error",
     "traceback": [
      "\u001b[0;31m---------------------------------------------------------------------------\u001b[0m",
      "\u001b[0;31mNameError\u001b[0m                                 Traceback (most recent call last)",
      "Cell \u001b[0;32mIn[11], line 157\u001b[0m\n\u001b[1;32m    154\u001b[0m     axs\u001b[39m.\u001b[39mset_title(\u001b[39m'\u001b[39m\u001b[39mLogs\u001b[39m\u001b[39m'\u001b[39m)\n\u001b[1;32m    155\u001b[0m     plt\u001b[39m.\u001b[39mshow()\n\u001b[0;32m--> 157\u001b[0m RD_growth_model(\u001b[39m0.02\u001b[39;49m, \u001b[39m0.7\u001b[39;49m, \u001b[39m0.5\u001b[39;49m, \u001b[39m0.4\u001b[39;49m, \u001b[39m0.35\u001b[39;49m, \u001b[39m30\u001b[39;49m, \u001b[39m1\u001b[39;49m, \u001b[39m100\u001b[39;49m, \u001b[39m0.20\u001b[39;49m, \u001b[39m1\u001b[39;49m, \u001b[39m0.15\u001b[39;49m, \u001b[39m1\u001b[39;49m)\n",
      "Cell \u001b[0;32mIn[11], line 40\u001b[0m, in \u001b[0;36mRD_growth_model\u001b[0;34m(n, gamma, theta, beta, alpha, L0, A0, T, s, K0, a, B, shock)\u001b[0m\n\u001b[1;32m     38\u001b[0m Kpath_shock[\u001b[39m0\u001b[39m] \u001b[39m=\u001b[39m K0\n\u001b[1;32m     39\u001b[0m YLpath_shock[\u001b[39m0\u001b[39m] \u001b[39m=\u001b[39m Y0_shock\u001b[39m/\u001b[39mL0\n\u001b[0;32m---> 40\u001b[0m KLpath_shock[\u001b[39m0\u001b[39m] \u001b[39m=\u001b[39m K0_shock\u001b[39m/\u001b[39mL0\n\u001b[1;32m     42\u001b[0m \u001b[39mif\u001b[39;00m \u001b[39m'\u001b[39m\u001b[39mtheta\u001b[39m\u001b[39m'\u001b[39m \u001b[39min\u001b[39;00m shock:\n\u001b[1;32m     43\u001b[0m     theta_shock \u001b[39m=\u001b[39m shock[\u001b[39m'\u001b[39m\u001b[39mtheta\u001b[39m\u001b[39m'\u001b[39m]\n",
      "\u001b[0;31mNameError\u001b[0m: name 'K0_shock' is not defined"
     ]
    }
   ],
   "source": [
    "# From https://github.com/duda40s/EndogenousGrowth/blob/main/endogenousmodelR&Dcapital2.py\n",
    "\n",
    "import numpy as np\n",
    "import matplotlib.pyplot as plt\n",
    "import sympy as sp\n",
    "import ipywidgets\n",
    "import math\n",
    "\n",
    "def RD_growth_model(n=.02, gamma=.7, theta=.5, beta=.4, alpha=.35, L0=30, A0=1, T=16, s=.2, K0=1, a=.15, B=1, shock={}):\n",
    "\n",
    "    Lpath = np.zeros(T + 1)\n",
    "    Apath = np.zeros(T + 1)\n",
    "    Ypath = np.zeros(T + 1)\n",
    "    Kpath = np.zeros(T + 1)\n",
    "    YLpath = np.zeros(T + 1)\n",
    "    AGpath = np.zeros(T + 1)\n",
    "    KLpath = np.zeros(T + 1)\n",
    "    Lpath_shock = np.zeros(T + 1)\n",
    "    Apath_shock = np.zeros(T + 1)\n",
    "    Ypath_shock = np.zeros(T + 1)\n",
    "    Kpath_shock = np.zeros(T + 1)\n",
    "    YLpath_shock = np.zeros(T + 1)\n",
    "    AGpath_shock = np.zeros(T + 1)\n",
    "    KLpath_shock = np.zeros(T + 1)\n",
    "\n",
    "    Y0 = ((A0*L0*(1 - a))**(1-alpha)) * (K0*(1 - a))**(alpha)\n",
    "    Y0_shock = Y0\n",
    "\n",
    "    Lpath[0] = L0\n",
    "    Apath[0] = A0\n",
    "    Ypath[0] = Y0\n",
    "    Kpath[0] = K0\n",
    "    YLpath[0] = Y0/L0\n",
    "    KLpath[0] = K0/L0\n",
    "    Lpath_shock[0] = L0\n",
    "    Apath_shock[0] = A0\n",
    "    Ypath_shock[0] = Y0\n",
    "    Kpath_shock[0] = K0\n",
    "    YLpath_shock[0] = Y0_shock/L0\n",
    "    KLpath_shock[0] = K0_shock/L0\n",
    "\n",
    "    if 'theta' in shock:\n",
    "        theta_shock = shock['theta']\n",
    "    else:\n",
    "        theta_shock = theta\n",
    "\n",
    "    if 'beta' in shock:\n",
    "        beta_shock = shock['beta']\n",
    "    else:\n",
    "        beta_shock = beta\n",
    "\n",
    "    if 'alpha' in shock:\n",
    "        alpha_shock = shock['alpha']\n",
    "    else:\n",
    "        alpha_shock = alpha\n",
    "\n",
    "    if 'a' in shock:\n",
    "        a_shock = shock['a']\n",
    "    else:\n",
    "        a_shock = a\n",
    "\n",
    "    if 'B' in shock:\n",
    "        B_shock = shock['B']\n",
    "    else:\n",
    "        B_shock = B\n",
    "\n",
    "    if 'gamma' in shock:\n",
    "        gamma_shock = shock['gamma']\n",
    "    else:\n",
    "        gamma_shock = gamma\n",
    "\n",
    "    if 'n' in shock:\n",
    "        n_shock = shock['n']\n",
    "    else:\n",
    "        n_shock = n\n",
    "\n",
    "    if 's' in shock:\n",
    "        s_shock = shock['s']\n",
    "    else:\n",
    "        s_shock = s\n",
    "\n",
    "    for t in range(T):\n",
    "        Adot = ((a * Lpath[t])**gamma) * B*((Kpath[t] * a)**beta) * Apath[t]**theta\n",
    "        Apath[t + 1] = Apath[t] + Adot\n",
    "        AGpath[t] = Adot / Apath[t]\n",
    "\n",
    "        Ydot = ((Apath[t]*Lpath[t]*(1 - a))**(1-alpha)) * (Kpath[t]*(1 - a))**alpha\n",
    "        Ldot = n * Lpath[t]\n",
    "        Lpath[t+1] = Ldot + Lpath[t]\n",
    "\n",
    "        Ypath[t + 1] = Ypath[t] + Ydot\n",
    "        Kdot = s * Ypath[t]\n",
    "        Kpath[t + 1] = Kpath[t] + Kdot\n",
    "\n",
    "        YLpath[t + 1] = Ypath[t + 1] / Lpath[t + 1]\n",
    "        KLpath[t + 1] = Kpath[t + 1] / Lpath[t + 1]\n",
    "        GA = ((beta+gamma)/(1-(theta+beta)))*n\n",
    "\n",
    "        Adot_shock = ((a_shock * Lpath_shock[t])**gamma_shock) * B_shock*((Kpath_shock[t] * a_shock)**beta_shock) * Apath_shock[t]**theta_shock\n",
    "        Apath_shock[t + 1] = Apath_shock[t] + Adot_shock\n",
    "        AGpath_shock[t] = Adot_shock / Apath_shock[t]\n",
    "\n",
    "        Ydot_shock = ((Apath_shock[t]*Lpath_shock[t]*(1 - a_shock))**(1-alpha_shock)) * (Kpath_shock[t]*(1 - a_shock))**alpha_shock\n",
    "        Ldot_shock = n_shock * Lpath_shock[t]\n",
    "        Lpath_shock[t+1] = Ldot_shock + Lpath_shock[t]\n",
    "\n",
    "        Ypath_shock[t + 1] = Ypath_shock[t] + Ydot_shock\n",
    "        Kdot_shock = s_shock * Ypath_shock[t]\n",
    "        Kpath_shock[t + 1] = Kpath_shock[t] + Kdot_shock\n",
    "\n",
    "        YLpath_shock[t + 1] = Ypath_shock[t + 1] / Lpath_shock[t + 1]\n",
    "        KLpath_shock[t + 1] = Kpath_shock[t + 1] / Lpath_shock[t + 1]\n",
    "        GA_shock = ((beta_shock+gamma_shock)/(1-(theta_shock+beta_shock)))*n_shock\n",
    "\n",
    "    t = np.arange(T + 1)\n",
    "\n",
    "    fig, axs = plt.subplots(1, 4, figsize=(20, 5))\n",
    "\n",
    "    axs[0].plot(t, YLpath)\n",
    "    axs[0].plot(t, YLpath_shock)\n",
    "    axs[0].set_xlabel('Time')\n",
    "    axs[0].set_ylabel('Output per labor (Y/L)')\n",
    "    axs[0].set_title('Output per Labor over Time')\n",
    "\n",
    "    axs[1].plot(t, Apath)\n",
    "    axs[1].plot(t, Apath_shock)\n",
    "    axs[1].set_xlabel('Time')\n",
    "    axs[1].set_ylabel('Technology level (A)')\n",
    "    axs[1].set_title('Technology Level over Time')\n",
    "\n",
    "    axs[2].plot(t, AGpath)\n",
    "    axs[2].plot(t, AGpath_shock)\n",
    "    axs[2].set_xlabel('Time')\n",
    "    axs[2].set_ylabel('Growth of Technology level (A)')\n",
    "    axs[2].set_title('Growth of Technology Level over Time')\n",
    "\n",
    "    axs[3].plot(t, KLpath)\n",
    "    axs[3].plot(t, KLpath_shock)\n",
    "    axs[3].set_xlabel('Time')\n",
    "    axs[3].set_ylabel('Capital per Labor (K/L)')\n",
    "    axs[3].set_title('Capital per Labor over Time')\n",
    "\n",
    "    plt.tight_layout()\n",
    "    plt.show()\n",
    "\n",
    "\n",
    "    fig, axs = plt.subplots(figsize=(20, 5))\n",
    "\n",
    "    axs.plot(t[:-1], [math.log(i) for i in YLpath[:-1]])\n",
    "    axs.plot(t[:-1], [math.log(i) for i in Apath[:-1]])\n",
    "    axs.plot(t[:-1], [math.log(i) for i in AGpath[:-1]])\n",
    "    axs.plot(t[:-1], [math.log(i) for i in KLpath[:-1]])\n",
    "    axs.set_xlabel('Time')\n",
    "    axs.set_title('Logs')\n",
    "    plt.show()\n",
    "\n",
    "RD_growth_model(0.02, 0.7, 0.5, 0.4, 0.35, 30, 1, 100, 0.20, 1, 0.15, 1)\n"
   ]
  },
  {
   "cell_type": "code",
   "execution_count": null,
   "metadata": {},
   "outputs": [
    {
     "data": {
      "application/vnd.jupyter.widget-view+json": {
       "model_id": "cdcf1c57516f44dcbcab2bbe2b0b9a2f",
       "version_major": 2,
       "version_minor": 0
      },
      "text/plain": [
       "interactive(children=(FloatSlider(value=0.02, description='n', max=0.2, step=0.01), FloatSlider(value=0.7, des…"
      ]
     },
     "metadata": {},
     "output_type": "display_data"
    }
   ],
   "source": [
    "display(ipywidgets.interactive(RD_growth_model, n=(0.0, 0.2, 0.01), s=(0.2),  theta=(0, 1.0, 0.05), beta=(0, 1.1, 0.1), alpha=(0, 1, 0.01), L0=20, A0=1, K0=2, T=10, a=(0, 1, 0.01), B=(0,5,1)))\n"
   ]
  },
  {
   "cell_type": "code",
   "execution_count": null,
   "metadata": {},
   "outputs": [
    {
     "data": {
      "application/vnd.jupyter.widget-view+json": {
       "model_id": "cdcf1c57516f44dcbcab2bbe2b0b9a2f",
       "version_major": 2,
       "version_minor": 0
      },
      "text/plain": [
       "interactive(children=(FloatSlider(value=0.02, description='n', max=0.2, step=0.01), FloatSlider(value=0.7, des…"
      ]
     },
     "metadata": {},
     "output_type": "display_data"
    }
   ],
   "source": [
    "display(ipywidgets.interactive(RD_growth_model, n=(0.0, 0.2, 0.01), s=(0.2),  theta=(0, 1.0, 0.05), beta=(0, 1.1, 0.1), alpha=(0, 1, 0.01), L0=20, A0=1, K0=2, T=10, a=(0, 1, 0.01), B=(0,5,1)))\n"
   ]
  },
  {
   "cell_type": "code",
   "execution_count": null,
   "metadata": {},
   "outputs": [
    {
     "data": {
      "application/vnd.jupyter.widget-view+json": {
       "model_id": "cdcf1c57516f44dcbcab2bbe2b0b9a2f",
       "version_major": 2,
       "version_minor": 0
      },
      "text/plain": [
       "interactive(children=(FloatSlider(value=0.02, description='n', max=0.2, step=0.01), FloatSlider(value=0.7, des…"
      ]
     },
     "metadata": {},
     "output_type": "display_data"
    }
   ],
   "source": [
    "display(ipywidgets.interactive(RD_growth_model, n=(0.0, 0.2, 0.01), s=(0.2),  theta=(0, 1.0, 0.05), beta=(0, 1.1, 0.1), alpha=(0, 1, 0.01), L0=20, A0=1, K0=2, T=10, a=(0, 1, 0.01), B=(0,5,1)))\n"
   ]
  },
  {
   "cell_type": "code",
   "execution_count": null,
   "metadata": {},
   "outputs": [
    {
     "data": {
      "application/vnd.jupyter.widget-view+json": {
       "model_id": "cdcf1c57516f44dcbcab2bbe2b0b9a2f",
       "version_major": 2,
       "version_minor": 0
      },
      "text/plain": [
       "interactive(children=(FloatSlider(value=0.02, description='n', max=0.2, step=0.01), FloatSlider(value=0.7, des…"
      ]
     },
     "metadata": {},
     "output_type": "display_data"
    }
   ],
   "source": [
    "display(ipywidgets.interactive(RD_growth_model, n=(0.0, 0.2, 0.01), s=(0.2),  theta=(0, 1.0, 0.05), beta=(0, 1.1, 0.1), alpha=(0, 1, 0.01), L0=20, A0=1, K0=2, T=10, a=(0, 1, 0.01), B=(0,5,1)))\n"
   ]
  },
  {
   "cell_type": "code",
   "execution_count": null,
   "metadata": {},
   "outputs": [
    {
     "data": {
      "application/vnd.jupyter.widget-view+json": {
       "model_id": "cdcf1c57516f44dcbcab2bbe2b0b9a2f",
       "version_major": 2,
       "version_minor": 0
      },
      "text/plain": [
       "interactive(children=(FloatSlider(value=0.02, description='n', max=0.2, step=0.01), FloatSlider(value=0.7, des…"
      ]
     },
     "metadata": {},
     "output_type": "display_data"
    }
   ],
   "source": [
    "display(ipywidgets.interactive(RD_growth_model, n=(0.0, 0.2, 0.01), s=(0.2),  theta=(0, 1.0, 0.05), beta=(0, 1.1, 0.1), alpha=(0, 1, 0.01), L0=20, A0=1, K0=2, T=10, a=(0, 1, 0.01), B=(0,5,1)))\n"
   ]
  },
  {
   "cell_type": "code",
   "execution_count": null,
   "metadata": {},
   "outputs": [
    {
     "data": {
      "application/vnd.jupyter.widget-view+json": {
       "model_id": "cdcf1c57516f44dcbcab2bbe2b0b9a2f",
       "version_major": 2,
       "version_minor": 0
      },
      "text/plain": [
       "interactive(children=(FloatSlider(value=0.02, description='n', max=0.2, step=0.01), FloatSlider(value=0.7, des…"
      ]
     },
     "metadata": {},
     "output_type": "display_data"
    }
   ],
   "source": [
    "display(ipywidgets.interactive(RD_growth_model, n=(0.0, 0.2, 0.01), s=(0.2),  theta=(0, 1.0, 0.05), beta=(0, 1.1, 0.1), alpha=(0, 1, 0.01), L0=20, A0=1, K0=2, T=10, a=(0, 1, 0.01), B=(0,5,1)))\n"
   ]
  },
  {
   "cell_type": "code",
   "execution_count": null,
   "metadata": {},
   "outputs": [
    {
     "data": {
      "application/vnd.jupyter.widget-view+json": {
       "model_id": "cdcf1c57516f44dcbcab2bbe2b0b9a2f",
       "version_major": 2,
       "version_minor": 0
      },
      "text/plain": [
       "interactive(children=(FloatSlider(value=0.02, description='n', max=0.2, step=0.01), FloatSlider(value=0.7, des…"
      ]
     },
     "metadata": {},
     "output_type": "display_data"
    }
   ],
   "source": [
    "display(ipywidgets.interactive(RD_growth_model, n=(0.0, 0.2, 0.01), s=(0.2),  theta=(0, 1.0, 0.05), beta=(0, 1.1, 0.1), alpha=(0, 1, 0.01), L0=20, A0=1, K0=2, T=10, a=(0, 1, 0.01), B=(0,5,1)))\n"
   ]
  },
  {
   "cell_type": "code",
   "execution_count": null,
   "metadata": {},
   "outputs": [
    {
     "data": {
      "application/vnd.jupyter.widget-view+json": {
       "model_id": "cdcf1c57516f44dcbcab2bbe2b0b9a2f",
       "version_major": 2,
       "version_minor": 0
      },
      "text/plain": [
       "interactive(children=(FloatSlider(value=0.02, description='n', max=0.2, step=0.01), FloatSlider(value=0.7, des…"
      ]
     },
     "metadata": {},
     "output_type": "display_data"
    }
   ],
   "source": [
    "display(ipywidgets.interactive(RD_growth_model, n=(0.0, 0.2, 0.01), s=(0.2),  theta=(0, 1.0, 0.05), beta=(0, 1.1, 0.1), alpha=(0, 1, 0.01), L0=20, A0=1, K0=2, T=10, a=(0, 1, 0.01), B=(0,5,1)))\n"
   ]
  },
  {
   "cell_type": "code",
   "execution_count": null,
   "metadata": {},
   "outputs": [
    {
     "data": {
      "application/vnd.jupyter.widget-view+json": {
       "model_id": "cdcf1c57516f44dcbcab2bbe2b0b9a2f",
       "version_major": 2,
       "version_minor": 0
      },
      "text/plain": [
       "interactive(children=(FloatSlider(value=0.02, description='n', max=0.2, step=0.01), FloatSlider(value=0.7, des…"
      ]
     },
     "metadata": {},
     "output_type": "display_data"
    }
   ],
   "source": [
    "display(ipywidgets.interactive(RD_growth_model, n=(0.0, 0.2, 0.01), s=(0.2),  theta=(0, 1.0, 0.05), beta=(0, 1.1, 0.1), alpha=(0, 1, 0.01), L0=20, A0=1, K0=2, T=10, a=(0, 1, 0.01), B=(0,5,1)))\n"
   ]
  },
  {
   "cell_type": "code",
   "execution_count": null,
   "metadata": {},
   "outputs": [
    {
     "data": {
      "application/vnd.jupyter.widget-view+json": {
       "model_id": "cdcf1c57516f44dcbcab2bbe2b0b9a2f",
       "version_major": 2,
       "version_minor": 0
      },
      "text/plain": [
       "interactive(children=(FloatSlider(value=0.02, description='n', max=0.2, step=0.01), FloatSlider(value=0.7, des…"
      ]
     },
     "metadata": {},
     "output_type": "display_data"
    }
   ],
   "source": [
    "display(ipywidgets.interactive(RD_growth_model, n=(0.0, 0.2, 0.01), s=(0.2),  theta=(0, 1.0, 0.05), beta=(0, 1.1, 0.1), alpha=(0, 1, 0.01), L0=20, A0=1, K0=2, T=10, a=(0, 1, 0.01), B=(0,5,1)))\n"
   ]
  },
  {
   "cell_type": "code",
   "execution_count": null,
   "metadata": {},
   "outputs": [
    {
     "data": {
      "application/vnd.jupyter.widget-view+json": {
       "model_id": "cdcf1c57516f44dcbcab2bbe2b0b9a2f",
       "version_major": 2,
       "version_minor": 0
      },
      "text/plain": [
       "interactive(children=(FloatSlider(value=0.02, description='n', max=0.2, step=0.01), FloatSlider(value=0.7, des…"
      ]
     },
     "metadata": {},
     "output_type": "display_data"
    }
   ],
   "source": [
    "display(ipywidgets.interactive(RD_growth_model, n=(0.0, 0.2, 0.01), s=(0.2),  theta=(0, 1.0, 0.05), beta=(0, 1.1, 0.1), alpha=(0, 1, 0.01), L0=20, A0=1, K0=2, T=10, a=(0, 1, 0.01), B=(0,5,1)))\n"
   ]
  },
  {
   "cell_type": "code",
   "execution_count": null,
   "metadata": {},
   "outputs": [
    {
     "data": {
      "application/vnd.jupyter.widget-view+json": {
       "model_id": "cdcf1c57516f44dcbcab2bbe2b0b9a2f",
       "version_major": 2,
       "version_minor": 0
      },
      "text/plain": [
       "interactive(children=(FloatSlider(value=0.02, description='n', max=0.2, step=0.01), FloatSlider(value=0.7, des…"
      ]
     },
     "metadata": {},
     "output_type": "display_data"
    }
   ],
   "source": [
    "display(ipywidgets.interactive(RD_growth_model, n=(0.0, 0.2, 0.01), s=(0.2),  theta=(0, 1.0, 0.05), beta=(0, 1.1, 0.1), alpha=(0, 1, 0.01), L0=20, A0=1, K0=2, T=10, a=(0, 1, 0.01), B=(0,5,1)))\n"
   ]
  },
  {
   "cell_type": "code",
   "execution_count": null,
   "metadata": {},
   "outputs": [
    {
     "data": {
      "application/vnd.jupyter.widget-view+json": {
       "model_id": "cdcf1c57516f44dcbcab2bbe2b0b9a2f",
       "version_major": 2,
       "version_minor": 0
      },
      "text/plain": [
       "interactive(children=(FloatSlider(value=0.02, description='n', max=0.2, step=0.01), FloatSlider(value=0.7, des…"
      ]
     },
     "metadata": {},
     "output_type": "display_data"
    }
   ],
   "source": [
    "display(ipywidgets.interactive(RD_growth_model, n=(0.0, 0.2, 0.01), s=(0.2),  theta=(0, 1.0, 0.05), beta=(0, 1.1, 0.1), alpha=(0, 1, 0.01), L0=20, A0=1, K0=2, T=10, a=(0, 1, 0.01), B=(0,5,1)))\n"
   ]
  },
  {
   "cell_type": "code",
   "execution_count": null,
   "metadata": {},
   "outputs": [
    {
     "data": {
      "application/vnd.jupyter.widget-view+json": {
       "model_id": "cdcf1c57516f44dcbcab2bbe2b0b9a2f",
       "version_major": 2,
       "version_minor": 0
      },
      "text/plain": [
       "interactive(children=(FloatSlider(value=0.02, description='n', max=0.2, step=0.01), FloatSlider(value=0.7, des…"
      ]
     },
     "metadata": {},
     "output_type": "display_data"
    }
   ],
   "source": [
    "display(ipywidgets.interactive(RD_growth_model, n=(0.0, 0.2, 0.01), s=(0.2),  theta=(0, 1.0, 0.05), beta=(0, 1.1, 0.1), alpha=(0, 1, 0.01), L0=20, A0=1, K0=2, T=10, a=(0, 1, 0.01), B=(0,5,1)))\n"
   ]
  },
  {
   "cell_type": "code",
   "execution_count": null,
   "metadata": {},
   "outputs": [
    {
     "data": {
      "application/vnd.jupyter.widget-view+json": {
       "model_id": "cdcf1c57516f44dcbcab2bbe2b0b9a2f",
       "version_major": 2,
       "version_minor": 0
      },
      "text/plain": [
       "interactive(children=(FloatSlider(value=0.02, description='n', max=0.2, step=0.01), FloatSlider(value=0.7, des…"
      ]
     },
     "metadata": {},
     "output_type": "display_data"
    }
   ],
   "source": [
    "display(ipywidgets.interactive(RD_growth_model, n=(0.0, 0.2, 0.01), s=(0.2),  theta=(0, 1.0, 0.05), beta=(0, 1.1, 0.1), alpha=(0, 1, 0.01), L0=20, A0=1, K0=2, T=10, a=(0, 1, 0.01), B=(0,5,1)))\n"
   ]
  },
  {
   "cell_type": "code",
   "execution_count": 34,
   "metadata": {},
   "outputs": [
    {
     "name": "stdout",
     "output_type": "stream",
     "text": [
      "False\n"
     ]
    },
    {
     "ename": "TypeError",
     "evalue": "unhashable type: 'list'",
     "output_type": "error",
     "traceback": [
      "\u001b[0;31m---------------------------------------------------------------------------\u001b[0m",
      "\u001b[0;31mTypeError\u001b[0m                                 Traceback (most recent call last)",
      "Cell \u001b[0;32mIn[34], line 150\u001b[0m\n\u001b[1;32m    147\u001b[0m     axs\u001b[39m.\u001b[39mset_title(\u001b[39m'\u001b[39m\u001b[39mLogs\u001b[39m\u001b[39m'\u001b[39m)\n\u001b[1;32m    148\u001b[0m     plt\u001b[39m.\u001b[39mshow()\n\u001b[0;32m--> 150\u001b[0m RD_growth_model(\u001b[39m0.02\u001b[39;49m, \u001b[39m0.7\u001b[39;49m, \u001b[39m0.5\u001b[39;49m, \u001b[39m0.4\u001b[39;49m, \u001b[39m0.35\u001b[39;49m, \u001b[39m30\u001b[39;49m, \u001b[39m1\u001b[39;49m, \u001b[39m100\u001b[39;49m, \u001b[39m0.20\u001b[39;49m, \u001b[39m1\u001b[39;49m, \u001b[39m0.15\u001b[39;49m, \u001b[39m1\u001b[39;49m, {\u001b[39m'\u001b[39;49m\u001b[39mn\u001b[39;49m\u001b[39m'\u001b[39;49m : \u001b[39m0.01\u001b[39;49m, \u001b[39m'\u001b[39;49m\u001b[39mt\u001b[39;49m\u001b[39m'\u001b[39;49m: \u001b[39m10\u001b[39;49m})\n",
      "Cell \u001b[0;32mIn[34], line 71\u001b[0m, in \u001b[0;36mRD_growth_model\u001b[0;34m(n, gamma, theta, beta, alpha, L0, A0, T, s, K0, a, B, shock)\u001b[0m\n\u001b[1;32m     69\u001b[0m \u001b[39mif\u001b[39;00m \u001b[39m'\u001b[39m\u001b[39mt\u001b[39m\u001b[39m'\u001b[39m \u001b[39min\u001b[39;00m shock \u001b[39mand\u001b[39;00m shock[\u001b[39m'\u001b[39m\u001b[39mt\u001b[39m\u001b[39m'\u001b[39m] \u001b[39m==\u001b[39m t:\n\u001b[1;32m     70\u001b[0m     \u001b[39mprint\u001b[39m(\u001b[39m'\u001b[39m\u001b[39mtheta\u001b[39m\u001b[39m'\u001b[39m \u001b[39min\u001b[39;00m shock)\n\u001b[0;32m---> 71\u001b[0m     \u001b[39mif\u001b[39;00m [\u001b[39m'\u001b[39;49m\u001b[39mtheta\u001b[39;49m\u001b[39m'\u001b[39;49m] \u001b[39min\u001b[39;49;00m shock:\n\u001b[1;32m     72\u001b[0m         theta_shock \u001b[39m=\u001b[39m shock[\u001b[39m'\u001b[39m\u001b[39mtheta\u001b[39m\u001b[39m'\u001b[39m]\n\u001b[1;32m     73\u001b[0m     \u001b[39mif\u001b[39;00m [\u001b[39m'\u001b[39m\u001b[39mbeta\u001b[39m\u001b[39m'\u001b[39m] \u001b[39min\u001b[39;00m shock:\n",
      "\u001b[0;31mTypeError\u001b[0m: unhashable type: 'list'"
     ]
    }
   ],
   "source": [
    "# From https://github.com/duda40s/EndogenousGrowth/blob/main/endogenousmodelR&Dcapital2.py\n",
    "\n",
    "import numpy as np\n",
    "import matplotlib.pyplot as plt\n",
    "import sympy as sp\n",
    "import ipywidgets\n",
    "import math\n",
    "\n",
    "def RD_growth_model(n=.02, gamma=.7, theta=.5, beta=.4, alpha=.35, L0=30, A0=1, T=16, s=.2, K0=1, a=.15, B=1, shock={}):\n",
    "\n",
    "    X = np.arange(T + 1)\n",
    "\n",
    "    Lpath = np.zeros(T + 1)\n",
    "    Apath = np.zeros(T + 1)\n",
    "    Ypath = np.zeros(T + 1)\n",
    "    Kpath = np.zeros(T + 1)\n",
    "    YLpath = np.zeros(T + 1)\n",
    "    AGpath = np.zeros(T + 1)\n",
    "    KLpath = np.zeros(T + 1)\n",
    "    Lpath_shock = np.zeros(T + 1)\n",
    "    Apath_shock = np.zeros(T + 1)\n",
    "    Ypath_shock = np.zeros(T + 1)\n",
    "    Kpath_shock = np.zeros(T + 1)\n",
    "    YLpath_shock = np.zeros(T + 1)\n",
    "    AGpath_shock = np.zeros(T + 1)\n",
    "    KLpath_shock = np.zeros(T + 1)\n",
    "\n",
    "    Y0 = ((A0*L0*(1 - a))**(1-alpha)) * (K0*(1 - a))**(alpha)\n",
    "    Y0_shock = Y0\n",
    "\n",
    "    Lpath[0] = L0\n",
    "    Apath[0] = A0\n",
    "    Ypath[0] = Y0\n",
    "    Kpath[0] = K0\n",
    "    YLpath[0] = Y0/L0\n",
    "    KLpath[0] = K0/L0\n",
    "    Lpath_shock[0] = L0\n",
    "    Apath_shock[0] = A0\n",
    "    Ypath_shock[0] = Y0\n",
    "    Kpath_shock[0] = K0\n",
    "    YLpath_shock[0] = Y0/L0\n",
    "    KLpath_shock[0] = K0/L0\n",
    "\n",
    "    theta_shock = theta\n",
    "    beta_shock = beta\n",
    "    alpha_shock = alpha\n",
    "    a_shock = a\n",
    "    B_shock = B\n",
    "    gamma_shock = gamma\n",
    "    n_shock = n\n",
    "    s_shock = s\n",
    "\n",
    "    for t in range(T):\n",
    "        Adot = ((a * Lpath[t])**gamma) * B*((Kpath[t] * a)**beta) * Apath[t]**theta\n",
    "        Apath[t + 1] = Apath[t] + Adot\n",
    "        AGpath[t] = Adot / Apath[t]\n",
    "\n",
    "        Ydot = ((Apath[t]*Lpath[t]*(1 - a))**(1-alpha)) * (Kpath[t]*(1 - a))**alpha\n",
    "        Ldot = n * Lpath[t]\n",
    "        Lpath[t+1] = Ldot + Lpath[t]\n",
    "\n",
    "        Ypath[t + 1] = Ypath[t] + Ydot\n",
    "        Kdot = s * Ypath[t]\n",
    "        Kpath[t + 1] = Kpath[t] + Kdot\n",
    "\n",
    "        YLpath[t + 1] = Ypath[t + 1] / Lpath[t + 1]\n",
    "        KLpath[t + 1] = Kpath[t + 1] / Lpath[t + 1]\n",
    "\n",
    "        if 't' in shock and shock['t'] == t:\n",
    "            print('theta' in shock)\n",
    "            if ['theta'] in shock:\n",
    "                theta_shock = shock['theta']\n",
    "            if ['beta'] in shock:\n",
    "                beta_shock = shock['beta']\n",
    "            if ['alpha'] in shock:\n",
    "                alpha_shock = shock['alpha']\n",
    "            if ['a'] in shock:\n",
    "                a_shock = shock['a']\n",
    "            if ['B'] in shock:\n",
    "                B_shock = shock['B']\n",
    "            if ['gamma'] in shock:\n",
    "                gamma_shock = gamma\n",
    "            if ['n'] in shock:\n",
    "                n_shock = n\n",
    "            if ['s'] in shock:\n",
    "                s_shock = s\n",
    "\n",
    "        Adot_shock = ((a_shock * Lpath_shock[t])**gamma_shock) * B_shock*((Kpath_shock[t] * a_shock)**beta_shock) * Apath_shock[t]**theta_shock\n",
    "        Apath_shock[t + 1] = Apath_shock[t] + Adot_shock\n",
    "        AGpath_shock[t] = Adot_shock / Apath_shock[t]\n",
    "\n",
    "        Ydot_shock = ((Apath_shock[t]*Lpath_shock[t]*(1 - a_shock))**(1-alpha_shock)) * (Kpath_shock[t]*(1 - a_shock))**alpha_shock\n",
    "        Ldot_shock = n_shock * Lpath_shock[t]\n",
    "        Lpath_shock[t+1] = Ldot_shock + Lpath_shock[t]\n",
    "\n",
    "        Ypath_shock[t + 1] = Ypath_shock[t] + Ydot_shock\n",
    "        Kdot_shock = s_shock * Ypath_shock[t]\n",
    "        Kpath_shock[t + 1] = Kpath_shock[t] + Kdot_shock\n",
    "\n",
    "        YLpath_shock[t + 1] = Ypath_shock[t + 1] / Lpath_shock[t + 1]\n",
    "        KLpath_shock[t + 1] = Kpath_shock[t + 1] / Lpath_shock[t + 1]\n",
    "\n",
    "    # GA = ((beta+gamma)/(1-(theta+beta)))*n\n",
    "    # GA_shock = ((beta_shock+gamma_shock)/(1-(theta_shock+beta_shock)))*n_shock\n",
    "\n",
    "    fig, axs = plt.subplots(1, 4, figsize=(20, 5))\n",
    "\n",
    "    axs[0].plot(X, YLpath)\n",
    "    axs[0].plot(X, YLpath_shock)\n",
    "    axs[0].set_xlabel('Time')\n",
    "    axs[0].set_ylabel('Output per labor (Y/L)')\n",
    "    axs[0].set_title('Output per Labor over Time')\n",
    "\n",
    "    axs[1].plot(X, Apath)\n",
    "    axs[1].plot(X, Apath_shock)\n",
    "    axs[1].set_xlabel('Time')\n",
    "    axs[1].set_ylabel('Technology level (A)')\n",
    "    axs[1].set_title('Technology Level over Time')\n",
    "\n",
    "    axs[2].plot(X, AGpath)\n",
    "    axs[2].plot(X, AGpath_shock)\n",
    "    axs[2].set_xlabel('Time')\n",
    "    axs[2].set_ylabel('Growth of Technology level (A)')\n",
    "    axs[2].set_title('Growth of Technology Level over Time')\n",
    "\n",
    "    axs[3].plot(X, KLpath)\n",
    "    axs[3].plot(X, KLpath_shock)\n",
    "    axs[3].set_xlabel('Time')\n",
    "    axs[3].set_ylabel('Capital per Labor (K/L)')\n",
    "    axs[3].set_title('Capital per Labor over Time')\n",
    "\n",
    "    plt.tight_layout()\n",
    "    plt.show()\n",
    "\n",
    "\n",
    "    fig, axs = plt.subplots(figsize=(20, 5))\n",
    "\n",
    "    axs.plot(X[:-1], [math.log(i) for i in YLpath[:-1]], label='YLpath')\n",
    "    axs.plot(X[:-1], [math.log(i) for i in Apath[:-1]], label='Apath')\n",
    "    axs.plot(X[:-1], [math.log(i) for i in AGpath[:-1]], label='AGpath')\n",
    "    axs.plot(X[:-1], [math.log(i) for i in KLpath[:-1]], label='KLpath')\n",
    "    axs.plot(X[:-1], [math.log(i) for i in YLpath_shock[:-1]], linestyle='dashed', label='YLpath_shock')\n",
    "    axs.plot(X[:-1], [math.log(i) for i in Apath_shock[:-1]], linestyle='dashed', label='Apath_shock')\n",
    "    axs.plot(X[:-1], [math.log(i) for i in AGpath_shock[:-1]], linestyle='dashed', label='AGpath_shock')\n",
    "    axs.plot(X[:-1], [math.log(i) for i in KLpath_shock[:-1]], linestyle='dashed', label='KLpath_shock')\n",
    "    axs.set_xlabel('Time')\n",
    "    axs.set_title('Logs')\n",
    "    plt.show()\n",
    "\n",
    "RD_growth_model(0.02, 0.7, 0.5, 0.4, 0.35, 30, 1, 100, 0.20, 1, 0.15, 1, {'n' : 0.01, 't': 10})\n"
   ]
  },
  {
   "cell_type": "code",
   "execution_count": 6,
   "metadata": {},
   "outputs": [
    {
     "data": {
      "application/vnd.jupyter.widget-view+json": {
       "model_id": "cdcf1c57516f44dcbcab2bbe2b0b9a2f",
       "version_major": 2,
       "version_minor": 0
      },
      "text/plain": [
       "interactive(children=(FloatSlider(value=0.02, description='n', max=0.2, step=0.01), FloatSlider(value=0.7, des…"
      ]
     },
     "metadata": {},
     "output_type": "display_data"
    }
   ],
   "source": [
    "display(ipywidgets.interactive(RD_growth_model, n=(0.0, 0.2, 0.01), s=(0.2),  theta=(0, 1.0, 0.05), beta=(0, 1.1, 0.1), alpha=(0, 1, 0.01), L0=20, A0=1, K0=2, T=10, a=(0, 1, 0.01), B=(0,5,1)))\n"
   ]
  },
  {
   "cell_type": "code",
   "execution_count": null,
   "metadata": {},
   "outputs": [
    {
     "data": {
      "application/vnd.jupyter.widget-view+json": {
       "model_id": "cdcf1c57516f44dcbcab2bbe2b0b9a2f",
       "version_major": 2,
       "version_minor": 0
      },
      "text/plain": [
       "interactive(children=(FloatSlider(value=0.02, description='n', max=0.2, step=0.01), FloatSlider(value=0.7, des…"
      ]
     },
     "metadata": {},
     "output_type": "display_data"
    }
   ],
   "source": [
    "display(ipywidgets.interactive(RD_growth_model, n=(0.0, 0.2, 0.01), s=(0.2),  theta=(0, 1.0, 0.05), beta=(0, 1.1, 0.1), alpha=(0, 1, 0.01), L0=20, A0=1, K0=2, T=10, a=(0, 1, 0.01), B=(0,5,1)))\n"
   ]
  },
  {
   "cell_type": "code",
   "execution_count": null,
   "metadata": {},
   "outputs": [
    {
     "data": {
      "application/vnd.jupyter.widget-view+json": {
       "model_id": "cdcf1c57516f44dcbcab2bbe2b0b9a2f",
       "version_major": 2,
       "version_minor": 0
      },
      "text/plain": [
       "interactive(children=(FloatSlider(value=0.02, description='n', max=0.2, step=0.01), FloatSlider(value=0.7, des…"
      ]
     },
     "metadata": {},
     "output_type": "display_data"
    }
   ],
   "source": [
    "display(ipywidgets.interactive(RD_growth_model, n=(0.0, 0.2, 0.01), s=(0.2),  theta=(0, 1.0, 0.05), beta=(0, 1.1, 0.1), alpha=(0, 1, 0.01), L0=20, A0=1, K0=2, T=10, a=(0, 1, 0.01), B=(0,5,1)))\n"
   ]
  },
  {
   "cell_type": "code",
   "execution_count": null,
   "metadata": {},
   "outputs": [],
   "source": [
    "import numpy as np\n",
    "import matplotlib.pyplot as plt\n",
    "from matplotlib.animation import FuncAnimation\n",
    "from IPython.display import Image\n",
    "\n",
    "NUM_FRAMES = 25\n",
    "\n",
    "def k_next(k_t, alpha, n, g, rho):\n",
    "    return ((1-alpha)*k_t**alpha)/((1+n)*(1+g)*(1+rho))\n",
    "\n",
    "def plot_phase(alpha=.03, n=.02, g=.02, rho=.04, color='blue', linestyle='-', legend=False, subtitle=''):\n",
    "    k_vals = np.linspace(0.01, 1, 100)\n",
    "    k_next_vals = [k_next(k, alpha, n, g, rho) for k in k_vals]\n",
    "\n",
    "    plt.plot(k_vals, k_next_vals, label=f\"α={alpha}\" if legend else None, color=color, linestyle=linestyle)\n",
    "    plt.plot(k_vals, k_vals, label=\"$k_t=k_{t+1}$\" if legend else None, color='orange', linestyle='dotted')\n",
    "    plt.xlabel('$k_t$')\n",
    "    plt.ylabel('$k_{t+1}$')\n",
    "    plt.title('Plot of $k_{t+1}$ against $k_t$ ' +  subtitle)\n",
    "    plt.grid(True)\n",
    "    plt.xlim(0,1)\n",
    "    plt.ylim(0,1)\n",
    "    if legend:\n",
    "        plt.legend()\n",
    "\n",
    "def animate(alpha, n, g, rho, shock={}, output_file='diamond.gif'):\n",
    "    shock_str = ', '.join([f'{k}={v}' for k, v in shock.items()])\n",
    "    def update(frame):\n",
    "        shocked = {}\n",
    "        if 'alpha' in shock:\n",
    "            shocked['alpha'] = alpha + (shock['alpha'] - alpha) * frame / NUM_FRAMES\n",
    "        else:\n",
    "            shocked['alpha'] = alpha\n",
    "        if 'n' in shock:\n",
    "            shocked['n'] = n + (shock['n'] - n) * frame / NUM_FRAMES\n",
    "        else:\n",
    "            shocked['n'] = n\n",
    "        if 'g' in shock:\n",
    "            shocked['g'] = g + (shock['g'] - g) * frame / NUM_FRAMES\n",
    "        else:\n",
    "            shocked['g'] = g\n",
    "        if 'rho' in shock:\n",
    "            shocked['rho'] = rho + (shock['rho'] - rho) * frame / NUM_FRAMES\n",
    "        else:\n",
    "            shocked['rho'] = rho\n",
    "        plt.clf()\n",
    "        plot_phase(alpha, n, g, rho, color='gray')\n",
    "        plot_phase(shocked['alpha'], shocked['n'], shocked['g'], shocked['rho'], linestyle='--', legend=True, subtitle=f'- shocks=({shock_str})')\n",
    "\n",
    "    # Set up the initial plot\n",
    "    fig, ax = plt.subplots(figsize=(10, 10))\n",
    "\n",
    "    # Set up the animation\n",
    "    ani = FuncAnimation(fig, update, frames=range(NUMmocha_FRAMES), repeat=True)\n",
    "\n",
    "    # Saving the video\n",
    "    ani.save(output_file, writer='pillow')\n",
    "    plt.close(fig)\n",
    "\n",
    "\n",
    "animate(alpha=.3,n=.02,g=.02,rho=.04, shock={'alpha': .7})\n",
    "animate(alpha=.3,n=.02,g=.02,rho=.04, shock={'n': .05}, output_file='diamond_n.gif')\n",
    "Image(filename='diamond.gif')\n"
   ]
  },
  {
   "attachments": {},
   "cell_type": "markdown",
   "metadata": {},
   "source": [
    "![](https://github.com/deodoro/macro_models/blob/main/diamond.gif?raw=true)\n",
    "![](https://github.com/deodoro/macro_models/blob/main/diamond_n.gif?raw=true)"
   ]
  }
 ],
 "metadata": {
  "kernelspec": {
   "display_name": "Python 3 (ipykernel)",
   "language": "python",
   "name": "python3"
  },
  "language_info": {
   "codemirror_mode": {
    "name": "ipython",
    "version": 3
   },
   "file_extension": ".py",
   "mimetype": "text/x-python",
   "name": "python",
   "nbconvert_exporter": "python",
   "pygments_lexer": "ipython3",
   "version": "3.11.5"
  }
 },
 "nbformat": 4,
 "nbformat_minor": 4
}
