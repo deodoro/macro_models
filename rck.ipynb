{
 "cells": [
  {
   "cell_type": "code",
   "execution_count": 55,
   "metadata": {},
   "outputs": [
    {
     "data": {
      "application/vnd.jupyter.widget-view+json": {
       "model_id": "2d48b7175f524df3b01703fc489bbe77",
       "version_major": 2,
       "version_minor": 0
      },
      "text/plain": [
       "interactive(children=(FloatSlider(value=0.3333333333333333, description='Alpha:', max=1.0, step=0.01), FloatSl…"
      ]
     },
     "metadata": {},
     "output_type": "display_data"
    },
    {
     "data": {
      "text/plain": [
       "<function __main__.update(alpha=0.33, rho=0.03, theta=1.0, delta=0.04, n=0.04, g=0.04)>"
      ]
     },
     "execution_count": 55,
     "metadata": {},
     "output_type": "execute_result"
    }
   ],
   "source": [
    "import numpy as np\n",
    "import matplotlib.pyplot as plt\n",
    "from scipy.optimize import root\n",
    "from ipywidgets import interact, interactive, fixed, interact_manual\n",
    "import ipywidgets as widgets\n",
    "\n",
    "# Parameters\n",
    "c_initial = 1.0\n",
    "\n",
    "def update(alpha=0.33, rho=0.03, theta=1.0, delta=0.04, n=0.04, g=0.04):\n",
    "    # Production function per effective labor\n",
    "    def f(k):\n",
    "        return k**alpha\n",
    "\n",
    "    # Derivative of the production function\n",
    "    def df(k):\n",
    "        return alpha * k**(alpha - 1)\n",
    "\n",
    "    # \\dot{c}/c\n",
    "    def c_dot_over_c(k):\n",
    "        return (df(k) - rho - theta * g) / theta\n",
    "\n",
    "    # \\dot{k}\n",
    "    def k_dot(k, c):\n",
    "        return f(k) - c - (n + g) * k\n",
    "\n",
    "    k_vals = np.linspace(0.01, 39.5, 300)\n",
    "    c_vals = np.linspace(0.01, 2, 300)\n",
    "\n",
    "    K, C = np.meshgrid(k_vals, c_vals)\n",
    "    Kdot = k_dot(K, C)\n",
    "    Cdot = c_dot_over_c(K) * C\n",
    "\n",
    "    c_dotk_0 = f(k_vals) - (n + g + delta) * k_vals\n",
    "\n",
    "    k_initial_guess = 1.0\n",
    "    solution = root(c_dot_over_c, k_initial_guess)\n",
    "    c_solution = solution.x[0]\n",
    "\n",
    "    plt.clf()\n",
    "    # Plot the phase diagram\n",
    "    plt.plot(k_vals, c_dotk_0, label='$\\\\dot{k} = 0$')\n",
    "    plt.axvline(x=c_solution, color='red', linestyle='--', label='$\\dot{c}$ = 0 ($\\dot{k}$=' + '{0:.4})'.format(c_solution))\n",
    "    plt.streamplot(K, C, Kdot, Cdot, density=1.5, color=\"lightgrey\", linewidth=0.5)\n",
    "    plt.xlabel('k (capital per effective labor)')\n",
    "    plt.ylabel('c (consumption per effective labor)')\n",
    "    plt.title('Phase Diagram')\n",
    "    plt.grid()\n",
    "    plt.xlim(0, 20)\n",
    "    plt.ylim(0, 1.5)\n",
    "    plt.legend()\n",
    "\n",
    "interact(update,\n",
    "         alpha=widgets.FloatSlider(min=0, max=1, step=.01, value=1/3, description='Alpha:'),\n",
    "         rho=widgets.FloatSlider(min=0, max=1, step=.005, value=0.3, description='Rho:'),\n",
    "         theta=widgets.FloatSlider(min=0, max=1, step=.05, value=.5, description='Theta:'),\n",
    "         delta=widgets.FloatSlider(min=0, max=1, step=.005, value=.04, description='Depreciation rate (delta):'),\n",
    "         n=widgets.FloatSlider(min=0, max=1, step=.005, value=.04, description='Population growth rate (n):'),\n",
    "         g=widgets.FloatSlider(min=0, max=1, step=.005, value=.04, description='Growth rate (g):'),\n",
    ")"
   ]
  },
  {
   "cell_type": "code",
   "execution_count": 61,
   "metadata": {},
   "outputs": [
    {
     "data": {
      "application/vnd.jupyter.widget-view+json": {
       "model_id": "6819a1896c6e44bba83648be7afa2415",
       "version_major": 2,
       "version_minor": 0
      },
      "text/plain": [
       "interactive(children=(FloatSlider(value=0.3333333333333333, description='Alpha:', max=1.0, step=0.01), FloatSl…"
      ]
     },
     "metadata": {},
     "output_type": "display_data"
    },
    {
     "data": {
      "text/plain": [
       "<function __main__.update(alpha=0.33, rho=0.03, theta=1.0, n=0.04, g=0.04)>"
      ]
     },
     "execution_count": 61,
     "metadata": {},
     "output_type": "execute_result"
    }
   ],
   "source": [
    "import numpy as np\n",
    "import matplotlib.pyplot as plt\n",
    "from ipywidgets import interact, interactive, fixed, interact_manual\n",
    "import ipywidgets as widgets\n",
    "\n",
    "# Euler method to update values\n",
    "def euler_update(value, dot_value, dt):\n",
    "    return value + dot_value * dt\n",
    "\n",
    "def update(alpha=0.33, rho=0.03, theta=1.0, n=0.04, g=0.04):\n",
    "    T=100\n",
    "    dt=1\n",
    "    # Production function per effective labor\n",
    "    def f(k):\n",
    "        return k**alpha\n",
    "\n",
    "    # Derivative of the production function\n",
    "    def df(k):\n",
    "        return alpha * k**(alpha - 1)\n",
    "\n",
    "    # \\dot{c}/c\n",
    "    def c_dot_over_c(k, c):\n",
    "        return (df(k) - rho - theta * g) / theta\n",
    "\n",
    "    # \\dot{k}\n",
    "    def k_dot(k, c):\n",
    "        return f(k) - c - (n + g) * k\n",
    "\n",
    "    k = [1.01]\n",
    "    c = [1]\n",
    "    y = [f(k[0])]\n",
    "\n",
    "    # Euler method simulation\n",
    "    for t in range(T):\n",
    "        k_next = euler_update(k[-1], k_dot(k[-1], c[-1]), dt)\n",
    "        c_next = euler_update(c[-1], c_dot_over_c(k[-1], c[-1]), dt)\n",
    "        y_next = y[-1] + df(k[-1])\n",
    "\n",
    "        k.append(k_next)\n",
    "        c.append(c_next)\n",
    "        y.append(y_next)\n",
    "\n",
    "    time = np.arange(T+1)\n",
    "    plt.figure(figsize=(12, 8))\n",
    "\n",
    "    plt.subplot(3, 1, 1)\n",
    "    plt.plot(time, np.log(y), label='log(y)')\n",
    "    plt.title('Log Output per Effective Labor vs Time')\n",
    "    plt.grid(True)\n",
    "\n",
    "    plt.subplot(3, 1, 2)\n",
    "    plt.plot(time, np.log(k), label='log(k)')\n",
    "    plt.title('Log Capital per Effective Labor vs Time')\n",
    "    plt.grid(True)\n",
    "\n",
    "    plt.subplot(3, 1, 3)\n",
    "    plt.plot(time, np.log(c), label='log(c)')\n",
    "    plt.title('Log Consumption per Effective Labor vs Time')\n",
    "    plt.grid(True)\n",
    "\n",
    "interact(update,\n",
    "         alpha=widgets.FloatSlider(min=0, max=1, step=.01, value=1/3, description='Alpha:'),\n",
    "         rho=widgets.FloatSlider(min=0, max=1, step=.005, value=0.3, description='Rho:'),\n",
    "         theta=widgets.FloatSlider(min=0, max=1, step=.05, value=.3, description='Theta:'),\n",
    "         n=widgets.FloatSlider(min=0, max=1, step=.005, value=.04, description='Population growth rate (n):'),\n",
    "         g=widgets.FloatSlider(min=0, max=1, step=.005, value=.04, description='Growth rate (g):'),\n",
    ")\n"
   ]
  }
 ],
 "metadata": {
  "kernelspec": {
   "display_name": ".venv",
   "language": "python",
   "name": "python3"
  },
  "language_info": {
   "codemirror_mode": {
    "name": "ipython",
    "version": 3
   },
   "file_extension": ".py",
   "mimetype": "text/x-python",
   "name": "python",
   "nbconvert_exporter": "python",
   "pygments_lexer": "ipython3",
   "version": "3.11.5"
  },
  "orig_nbformat": 4
 },
 "nbformat": 4,
 "nbformat_minor": 2
}
